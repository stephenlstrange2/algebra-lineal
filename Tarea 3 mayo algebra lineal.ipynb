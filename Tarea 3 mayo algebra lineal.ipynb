{
 "cells": [
  {
   "cell_type": "markdown",
   "id": "a9fe5f24",
   "metadata": {},
   "source": [
    "## Que es un espacio vectorial\n",
    "\n",
    "Un espacio vectorial es un conjunto no vacío V de objetos, llamados vectores, en el que se han definido dos operaciones: la suma y el producto por un escalar (número real) sujetas a los diez axiomas que se dan a continuación. Los axiomas deben ser válidos para todos los vectores *u* , *v* y *w*  en **V** y todos los escalares *α* y *β* **reales**.\n",
    "Llamamos \n",
    "*u* + *v* a la suma de vectores en **V** , y *α* *** *v* al producto de un número real *α* por un vector *v* ∈ **V**."
   ]
  },
  {
   "cell_type": "markdown",
   "id": "ad71aa43",
   "metadata": {},
   "source": [
    "### Axiomas espacios vectoriales\n",
    "1. *u* + *v* ∈ **V**\n",
    "2. *u* + *v* = *v* + *u*\n",
    "3. (*u*+*v*)+*w*=*u*+(*v*+*w*)\n",
    "4. Existe un vector nulo *0_v* ∈ **V** tal que *v*+*0_v*=*v*\n",
    "5. Para cada *v* en **V**, existe un opuesto (–*v*) ∈ **V** tal que *v*+(–*v*)=*0_v*\n",
    "\n",
    "6. *α* *v* ∈ **V**\n",
    "\n",
    "7. *α*(*u*+*v*)=*αu*+*αv*\n",
    "\n",
    "8. (*α*+*β*)*v*=*αv*+*βv*\n",
    "\n",
    "9. *α*(*βv*)=(*αβ*)*v*\n",
    "\n",
    "10. 1*v*=*v*\n",
    " "
   ]
  },
  {
   "cell_type": "markdown",
   "id": "f3d6b2d2",
   "metadata": {},
   "source": [
    "## Ejercicios \n",
    "### Consideren los siguientes vectores:\n",
    "\n"
   ]
  },
  {
   "cell_type": "code",
   "execution_count": 3,
   "id": "dfe32f98",
   "metadata": {},
   "outputs": [],
   "source": [
    "u = vector([12,31])\n",
    "\n",
    "v = vector([13,31])\n",
    "\n",
    "w = vector([6,71])"
   ]
  },
  {
   "cell_type": "markdown",
   "id": "b6c27e7f",
   "metadata": {},
   "source": [
    "### Calculen la sumas siguientes:\n",
    "\n",
    "1. u+w\n",
    "2. v+w\n",
    "3. (u+v)+w\n",
    "4. (w+v)+u\n",
    "5. (u+w)+(v+w)"
   ]
  },
  {
   "cell_type": "markdown",
   "id": "494e2ea9",
   "metadata": {},
   "source": [
    "### Ejercicio 1: \n",
    "\n",
    "u+w\n",
    "\n",
    "u_x = 12 \n",
    "\n",
    "u_y = 31 \n",
    "\n",
    "w_x = 6\n",
    "\n",
    "w_y = 71\n",
    "\n",
    "(u+w)_x = w_x + u_x = u_x + w_x = 18\n",
    "\n",
    "y \n",
    "\n",
    "(u+w)_y = w_y + u_y = u_y + w_y = 102\n",
    "\n",
    "\n",
    "=> u+w = (18,102)\n"
   ]
  },
  {
   "cell_type": "markdown",
   "id": "78eeac28",
   "metadata": {},
   "source": [
    "### Ejercicio 2:\n",
    "\n",
    "v+w\n",
    "\n",
    "v+w\n",
    "\n",
    "\n",
    "v_x = 13 \n",
    "\n",
    "v_y = 31 \n",
    "\n",
    "w_x = 6\n",
    "\n",
    "w_y = 71\n",
    "\n",
    "\n",
    "(v+w)_x = w_x + v_x = v_x + w_x = 19\n",
    "\n",
    "\n",
    "y \n",
    "\n",
    "\n",
    "(v+w)_y = w_y + v_y = v_y + w_y = 102\n",
    "\n",
    "\n",
    "=> v+w = (19,102)"
   ]
  },
  {
   "cell_type": "markdown",
   "id": "140a45b4",
   "metadata": {},
   "source": [
    "### Ejercicio 3:\n",
    "\n",
    "(u+v)+w\n",
    "* por el tercer axioma **de propiedad conmutativa** sabemos que \n",
    "(u+v)+w = (u + w) + v\n",
    "\n",
    "y sabemos que \n",
    "\n",
    "u+w = (18,102)\n",
    "\n",
    "por lo tanto\n",
    "\n",
    "(u+v)+w = (18,102)+(6,71)\n",
    "\n",
    "v+w\n",
    "(u+w)_x = 18\n",
    "\n",
    "(u+w)_y = 102 \n",
    "\n",
    "v_x = 12\n",
    "\n",
    "v_y = 31\n",
    "\n",
    "((u+w)+v)_x = v_x + (u+w)_x = (u+w)_x + v_x = 31\n",
    "\n",
    "y \n",
    "\n",
    "((u+w)+v)_y = v_y + (u+w)_y = (u+w)_y + v_y = 133\n",
    "\n",
    "=> (u+v)+w = (31,133)"
   ]
  },
  {
   "cell_type": "markdown",
   "id": "282d1abb",
   "metadata": {},
   "source": [
    "### Ejercicio 4:\n",
    "\n",
    "(w+v)+u\n",
    "* por el tercer axioma **de propiedad conmutativa** sabemos que \n",
    "(u+v)+w = (u + w) + v\n",
    "\n",
    "por lo tanto y por el ejercicio anterior \n",
    "\n",
    "(w+v)+u = (31,133)"
   ]
  },
  {
   "cell_type": "markdown",
   "id": "38d94f4e",
   "metadata": {},
   "source": [
    "### Ejercicio 5:\n",
    "\n",
    "(u+w)+(v+w)\n",
    "* por el tercer axioma **de propiedad conmutativa** sabemos que \n",
    "(u+w)+(v+w) = ((u + w) + w) + v \n",
    "\n",
    "=>\n",
    "(u+w)+(v+w) = ((u (w + w)) + v \n",
    "\n",
    "=> \n",
    "\n",
    "(u+w)+(v+w) = ((u + v) +(2w)) \n",
    "\n",
    "=>\n",
    "\n",
    "(u+w)+(v+w) = (((2*(6,71)) + ((12,31)+(13,31))) \n",
    "\n",
    "=>\n",
    "\n",
    "(u+w)+(v+w) = (12,142)+ (25,62)\n",
    "\n",
    "=>\n",
    "\n",
    "(u+w)+(v+w) = (37,204)\n"
   ]
  },
  {
   "cell_type": "markdown",
   "id": "6008173b",
   "metadata": {},
   "source": [
    "### Usando Sage comprueben los ejercicios"
   ]
  },
  {
   "cell_type": "code",
   "execution_count": 4,
   "id": "1cc6e537",
   "metadata": {},
   "outputs": [
    {
     "data": {
      "text/plain": [
       "(18, 102)"
      ]
     },
     "execution_count": 4,
     "metadata": {},
     "output_type": "execute_result"
    }
   ],
   "source": [
    "u+w"
   ]
  },
  {
   "cell_type": "code",
   "execution_count": 5,
   "id": "afadd8fd",
   "metadata": {},
   "outputs": [
    {
     "data": {
      "text/plain": [
       "(19, 102)"
      ]
     },
     "execution_count": 5,
     "metadata": {},
     "output_type": "execute_result"
    }
   ],
   "source": [
    "v+w"
   ]
  },
  {
   "cell_type": "code",
   "execution_count": 6,
   "id": "0e4a108a",
   "metadata": {},
   "outputs": [
    {
     "data": {
      "text/plain": [
       "(31, 133)"
      ]
     },
     "execution_count": 6,
     "metadata": {},
     "output_type": "execute_result"
    }
   ],
   "source": [
    "(u+v)+w"
   ]
  },
  {
   "cell_type": "code",
   "execution_count": 7,
   "id": "198d8208",
   "metadata": {},
   "outputs": [
    {
     "data": {
      "text/plain": [
       "(31, 133)"
      ]
     },
     "execution_count": 7,
     "metadata": {},
     "output_type": "execute_result"
    }
   ],
   "source": [
    "(w+v)+u"
   ]
  },
  {
   "cell_type": "code",
   "execution_count": 8,
   "id": "d06be03a",
   "metadata": {},
   "outputs": [
    {
     "data": {
      "text/plain": [
       "(37, 204)"
      ]
     },
     "execution_count": 8,
     "metadata": {},
     "output_type": "execute_result"
    }
   ],
   "source": [
    "(u+w)+(v+w)"
   ]
  }
 ],
 "metadata": {
  "kernelspec": {
   "display_name": "SageMath 9.5",
   "language": "sage",
   "name": "sagemath"
  },
  "language_info": {
   "codemirror_mode": {
    "name": "ipython",
    "version": 3
   },
   "file_extension": ".py",
   "mimetype": "text/x-python",
   "name": "python",
   "nbconvert_exporter": "python",
   "pygments_lexer": "ipython3",
   "version": "3.9.9"
  }
 },
 "nbformat": 4,
 "nbformat_minor": 5
}
