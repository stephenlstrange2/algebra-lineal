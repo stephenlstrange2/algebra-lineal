{
 "cells": [
  {
   "cell_type": "markdown",
   "id": "975310e5",
   "metadata": {},
   "source": [
    "# Revisión de compatibilidad y multiplicación de matrices\n",
    "Nota importante: realicen las combinaciones de pares de matrices posibles, luego revisen compatibilidad y si cumplen la regla, efectúen las multiplicaciones.\n",
    "\n",
    "Ejemplos de combinaciones: AB, BA, CA, CC, AA, BC, AC, etc.\n",
    "\n",
    "Como es costumbre, hagan las operaciones en su cuaderno, suban la evidencia y hagan las comprobaciones con Sage para revisar sus resultados.\n",
    "\n"
   ]
  },
  {
   "cell_type": "code",
   "execution_count": 4,
   "id": "d7177625",
   "metadata": {},
   "outputs": [],
   "source": [
    "A = matrix([[1,2,3],[1,1,1],[0,1,-1]])"
   ]
  },
  {
   "cell_type": "code",
   "execution_count": 5,
   "id": "952b6e5c",
   "metadata": {},
   "outputs": [
    {
     "data": {
      "text/plain": [
       "[ 1  2  3]\n",
       "[ 1  1  1]\n",
       "[ 0  1 -1]"
      ]
     },
     "execution_count": 5,
     "metadata": {},
     "output_type": "execute_result"
    }
   ],
   "source": [
    "A"
   ]
  },
  {
   "cell_type": "code",
   "execution_count": 10,
   "id": "ece17f5f",
   "metadata": {},
   "outputs": [],
   "source": [
    "B = matrix([1,2,1]).T"
   ]
  },
  {
   "cell_type": "code",
   "execution_count": 11,
   "id": "de8f137c",
   "metadata": {},
   "outputs": [
    {
     "data": {
      "text/plain": [
       "[1]\n",
       "[2]\n",
       "[1]"
      ]
     },
     "execution_count": 11,
     "metadata": {},
     "output_type": "execute_result"
    }
   ],
   "source": [
    "B"
   ]
  },
  {
   "cell_type": "code",
   "execution_count": 12,
   "id": "9d32b235",
   "metadata": {},
   "outputs": [],
   "source": [
    "C = matrix([[2,1,0],[3,4,5]])"
   ]
  },
  {
   "cell_type": "code",
   "execution_count": 13,
   "id": "74bb92f9",
   "metadata": {},
   "outputs": [
    {
     "data": {
      "text/plain": [
       "[2 1 0]\n",
       "[3 4 5]"
      ]
     },
     "execution_count": 13,
     "metadata": {},
     "output_type": "execute_result"
    }
   ],
   "source": [
    "C"
   ]
  },
  {
   "cell_type": "code",
   "execution_count": 22,
   "id": "20573329",
   "metadata": {},
   "outputs": [],
   "source": [
    "diccionario = {0:A,1:B,2:C,'0':'A','1':'B','2':'C'}"
   ]
  },
  {
   "cell_type": "code",
   "execution_count": 23,
   "id": "1bb7a73b",
   "metadata": {},
   "outputs": [
    {
     "data": {
      "text/plain": [
       "{0: [ 1  2  3]\n",
       " [ 1  1  1]\n",
       " [ 0  1 -1],\n",
       " 1: [1]\n",
       " [2]\n",
       " [1],\n",
       " 2: [2 1 0]\n",
       " [3 4 5],\n",
       " '0': 'A',\n",
       " '1': 'B',\n",
       " '2': 'C'}"
      ]
     },
     "execution_count": 23,
     "metadata": {},
     "output_type": "execute_result"
    }
   ],
   "source": [
    "diccionario"
   ]
  },
  {
   "cell_type": "code",
   "execution_count": 24,
   "id": "9eebad0f",
   "metadata": {},
   "outputs": [
    {
     "name": "stdout",
     "output_type": "stream",
     "text": [
      "intentando hacer la operacion A * A\n",
      "[3 7 2]\n",
      "[2 4 3]\n",
      "[1 0 2]\n",
      "intentando hacer la operacion A * B\n",
      "[8]\n",
      "[4]\n",
      "[1]\n",
      "intentando hacer la operacion A * C\n",
      "Operacion imposible\n",
      "intentando hacer la operacion B * A\n",
      "Operacion imposible\n",
      "intentando hacer la operacion B * B\n",
      "Operacion imposible\n",
      "intentando hacer la operacion B * C\n",
      "Operacion imposible\n",
      "intentando hacer la operacion C * A\n",
      "[ 3  5  7]\n",
      "[ 7 15  8]\n",
      "intentando hacer la operacion C * B\n",
      "[ 4]\n",
      "[16]\n",
      "intentando hacer la operacion C * C\n",
      "Operacion imposible\n"
     ]
    }
   ],
   "source": [
    "for i in range(3):\n",
    "    for j in range(3):\n",
    "        print('intentando hacer la operacion '+diccionario[str(i)]+' * '+diccionario[str(j)])\n",
    "        try:\n",
    "            print(diccionario[i]*diccionario[j])\n",
    "        except:\n",
    "            print('Operacion imposible')"
   ]
  },
  {
   "cell_type": "markdown",
   "id": "09c56f2f",
   "metadata": {},
   "source": [
    "### Conclusion:\n",
    "Las operaciones:\n",
    "* A * A\n",
    "* A* B\n",
    "* C * A\n",
    "* C * B\n",
    "\n",
    "Existen y se resolvieron arriba en el archivo"
   ]
  }
 ],
 "metadata": {
  "kernelspec": {
   "display_name": "SageMath 9.5",
   "language": "sage",
   "name": "sagemath"
  },
  "language_info": {
   "codemirror_mode": {
    "name": "ipython",
    "version": 3
   },
   "file_extension": ".py",
   "mimetype": "text/x-python",
   "name": "python",
   "nbconvert_exporter": "python",
   "pygments_lexer": "ipython3",
   "version": "3.9.9"
  }
 },
 "nbformat": 4,
 "nbformat_minor": 5
}
