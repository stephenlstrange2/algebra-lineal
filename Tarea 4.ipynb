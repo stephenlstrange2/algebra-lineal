{
 "cells": [
  {
   "cell_type": "code",
   "execution_count": 2,
   "id": "9b471111",
   "metadata": {},
   "outputs": [],
   "source": [
    "a = matrix ([[3,-4,5],[44,6,-4],[9,21,31]])"
   ]
  },
  {
   "cell_type": "code",
   "execution_count": 3,
   "id": "2c815b3f",
   "metadata": {},
   "outputs": [],
   "source": [
    "b = matrix ([[2,8,23],[12,1,11],[67,-2,20]])"
   ]
  },
  {
   "cell_type": "code",
   "execution_count": 4,
   "id": "5da987fa",
   "metadata": {},
   "outputs": [],
   "source": [
    "c = matrix ([[7,14,5],[52,4,-4],[9,21,6]])"
   ]
  },
  {
   "cell_type": "code",
   "execution_count": 5,
   "id": "4f70136a",
   "metadata": {},
   "outputs": [],
   "source": [
    "d = matrix ([[7,14,23],[18,55,97],[-1,5,8]])"
   ]
  },
  {
   "cell_type": "code",
   "execution_count": 6,
   "id": "b952d6e6",
   "metadata": {},
   "outputs": [],
   "source": [
    "ab = a*b"
   ]
  },
  {
   "cell_type": "code",
   "execution_count": 7,
   "id": "d172a2b6",
   "metadata": {},
   "outputs": [],
   "source": [
    "cd = c*d"
   ]
  },
  {
   "cell_type": "code",
   "execution_count": 8,
   "id": "a45d7573",
   "metadata": {},
   "outputs": [
    {
     "data": {
      "text/plain": [
       "[ 293   10  125]\n",
       "[-108  366  998]\n",
       "[2347   31 1058]"
      ]
     },
     "execution_count": 8,
     "metadata": {},
     "output_type": "execute_result"
    }
   ],
   "source": [
    "ab"
   ]
  },
  {
   "cell_type": "code",
   "execution_count": 9,
   "id": "d61d4a57",
   "metadata": {},
   "outputs": [
    {
     "data": {
      "text/plain": [
       "[ 296  893 1559]\n",
       "[ 440  928 1552]\n",
       "[ 435 1311 2292]"
      ]
     },
     "execution_count": 9,
     "metadata": {},
     "output_type": "execute_result"
    }
   ],
   "source": [
    "cd"
   ]
  },
  {
   "cell_type": "markdown",
   "id": "017744fa",
   "metadata": {},
   "source": [
    "# Explicacion \n",
    "### Definicion de matrices"
   ]
  },
  {
   "cell_type": "code",
   "execution_count": 10,
   "id": "58e9ea99",
   "metadata": {},
   "outputs": [
    {
     "data": {
      "text/plain": [
       "[ 3 -4  5]\n",
       "[44  6 -4]\n",
       "[ 9 21 31]"
      ]
     },
     "execution_count": 10,
     "metadata": {},
     "output_type": "execute_result"
    }
   ],
   "source": [
    "a"
   ]
  },
  {
   "cell_type": "code",
   "execution_count": 11,
   "id": "768c4c74",
   "metadata": {},
   "outputs": [
    {
     "data": {
      "text/plain": [
       "[ 2  8 23]\n",
       "[12  1 11]\n",
       "[67 -2 20]"
      ]
     },
     "execution_count": 11,
     "metadata": {},
     "output_type": "execute_result"
    }
   ],
   "source": [
    "b"
   ]
  },
  {
   "cell_type": "code",
   "execution_count": 12,
   "id": "dd6834dd",
   "metadata": {},
   "outputs": [
    {
     "data": {
      "text/plain": [
       "[ 7 14  5]\n",
       "[52  4 -4]\n",
       "[ 9 21  6]"
      ]
     },
     "execution_count": 12,
     "metadata": {},
     "output_type": "execute_result"
    }
   ],
   "source": [
    "c"
   ]
  },
  {
   "cell_type": "code",
   "execution_count": 13,
   "id": "10a1fda1",
   "metadata": {},
   "outputs": [
    {
     "data": {
      "text/plain": [
       "[ 7 14 23]\n",
       "[18 55 97]\n",
       "[-1  5  8]"
      ]
     },
     "execution_count": 13,
     "metadata": {},
     "output_type": "execute_result"
    }
   ],
   "source": [
    "d"
   ]
  },
  {
   "cell_type": "markdown",
   "id": "48dc7265",
   "metadata": {},
   "source": [
    "## Ejercicios\n",
    "### A * B "
   ]
  },
  {
   "cell_type": "code",
   "execution_count": 14,
   "id": "ead2ebee",
   "metadata": {},
   "outputs": [
    {
     "data": {
      "text/plain": [
       "[ 293   10  125]\n",
       "[-108  366  998]\n",
       "[2347   31 1058]"
      ]
     },
     "execution_count": 14,
     "metadata": {},
     "output_type": "execute_result"
    }
   ],
   "source": [
    "a*b"
   ]
  },
  {
   "cell_type": "markdown",
   "id": "0f2d232c",
   "metadata": {},
   "source": [
    "### Desarrollo\n",
    "Sabemos que una matriz A y una matriz B cuadradas de 3x3 tienen 9 elementos que acomodamos convenientemente del siguiente modo\n",
    "\n",
    "A_1 = [ 3 ,-4  ,5]\n",
    "A_2 = [44  ,6 ,-4]\n",
    "A_3 = [ 9 ,21 ,31]\n",
    "\n",
    "B_1 = [ 2 ,12 ,67]\n",
    "B_2 = [ 8  ,1 ,-2]\n",
    "B_3 = [21 ,11 ,20]\n",
    "\n",
    "De este modo podemos calcular A * B Facilmente pues \n",
    "\n",
    "AB[n,m] = A[n,1] * B[1,m] + A[n,2] * B[2,m] + A[n,3] * B[3,m]\n",
    "\n",
    "De este modo \n",
    "\n",
    "AB[1,1] = A[1,1] * B[1,1] + A[1,2] * B[2,1] + A[1,3] * B[3,1]\n"
   ]
  },
  {
   "cell_type": "code",
   "execution_count": 18,
   "id": "9571171a",
   "metadata": {},
   "outputs": [
    {
     "data": {
      "text/plain": [
       "293"
      ]
     },
     "execution_count": 18,
     "metadata": {},
     "output_type": "execute_result"
    }
   ],
   "source": [
    "a[0,0]*b[0,0] + a[0,1]*b[1,0]+a[0,2]*b[2,0]"
   ]
  },
  {
   "cell_type": "markdown",
   "id": "9e82355c",
   "metadata": {},
   "source": [
    "Asi para todos sus elementos"
   ]
  },
  {
   "cell_type": "code",
   "execution_count": 23,
   "id": "b6e87699",
   "metadata": {},
   "outputs": [
    {
     "name": "stdout",
     "output_type": "stream",
     "text": [
      "AB[0,0] = 293\n",
      "AB[0,1] = 10\n",
      "AB[0,2] = 125\n",
      "AB[1,0] = -108\n",
      "AB[1,1] = 366\n",
      "AB[1,2] = 998\n",
      "AB[2,0] = 2347\n",
      "AB[2,1] = 31\n",
      "AB[2,2] = 1058\n"
     ]
    }
   ],
   "source": [
    "for n in range(3):\n",
    "    for m in range(3):\n",
    "        print('AB['+str(n)+','+str(m)+'] = '+str(a[n,0]*b[0,m] + a[n,1]*b[1,m]+a[n,2]*b[2,m]))"
   ]
  },
  {
   "cell_type": "markdown",
   "id": "56c4d041",
   "metadata": {},
   "source": [
    "## Ejercicios\n",
    "### C * D "
   ]
  },
  {
   "cell_type": "code",
   "execution_count": 24,
   "id": "6a5c2e19",
   "metadata": {},
   "outputs": [
    {
     "data": {
      "text/plain": [
       "[ 296  893 1559]\n",
       "[ 440  928 1552]\n",
       "[ 435 1311 2292]"
      ]
     },
     "execution_count": 24,
     "metadata": {},
     "output_type": "execute_result"
    }
   ],
   "source": [
    "c*d"
   ]
  },
  {
   "cell_type": "markdown",
   "id": "0094f606",
   "metadata": {},
   "source": [
    "### Desarrollo\n",
    "Sabemos que una matriz A y una matriz B cuadradas de 3x3 tienen 9 elementos que acomodamos convenientemente del siguiente modo\n",
    "\n",
    "\n",
    "\n",
    "\n",
    "C_1 = [ 7 ,14  ,5]\n",
    "C_2 = [52  ,4 ,-4]\n",
    "C_3 = [ 9 ,21  ,6]\n",
    "\n",
    "D_1 = [ 7 ,18 ,-1]\n",
    "D_2 = [14  ,55 ,5]\n",
    "D_3 = [23  ,97 ,8]\n",
    "\n",
    "De este modo podemos calcular A * B Facilmente pues \n",
    "\n",
    "AB[n,m] = A[n,1] * B[1,m] + A[n,2] * B[2,m] + A[n,3] * B[3,m]\n",
    "\n",
    "De este modo \n",
    "\n",
    "AB[1,1] = A[1,1] * B[1,1] + A[1,2] * B[2,1] + A[1,3] * B[3,1]\n"
   ]
  },
  {
   "cell_type": "code",
   "execution_count": 25,
   "id": "97df20d7",
   "metadata": {},
   "outputs": [
    {
     "data": {
      "text/plain": [
       "296"
      ]
     },
     "execution_count": 25,
     "metadata": {},
     "output_type": "execute_result"
    }
   ],
   "source": [
    "c[0,0]*d[0,0] + c[0,1]*d[1,0]+c[0,2]*d[2,0]"
   ]
  },
  {
   "cell_type": "markdown",
   "id": "897a7425",
   "metadata": {},
   "source": [
    "Asi para todos sus elementos"
   ]
  },
  {
   "cell_type": "code",
   "execution_count": 27,
   "id": "bfbbbd9a",
   "metadata": {},
   "outputs": [
    {
     "name": "stdout",
     "output_type": "stream",
     "text": [
      "CD[0,0] = 296\n",
      "CD[0,1] = 893\n",
      "CD[0,2] = 1559\n",
      "CD[1,0] = 440\n",
      "CD[1,1] = 928\n",
      "CD[1,2] = 1552\n",
      "CD[2,0] = 435\n",
      "CD[2,1] = 1311\n",
      "CD[2,2] = 2292\n"
     ]
    }
   ],
   "source": [
    "for n in range(3):\n",
    "    for m in range(3):\n",
    "        print('CD['+str(n)+','+str(m)+'] = '+str(c[n,0]*d[0,m] + c[n,1]*d[1,m]+c[n,2]*d[2,m]))"
   ]
  },
  {
   "cell_type": "markdown",
   "id": "822f60c6",
   "metadata": {},
   "source": [
    "## Y asi se comrpueba la operacion matricial"
   ]
  }
 ],
 "metadata": {
  "kernelspec": {
   "display_name": "SageMath 9.5",
   "language": "sage",
   "name": "sagemath"
  },
  "language_info": {
   "codemirror_mode": {
    "name": "ipython",
    "version": 3
   },
   "file_extension": ".py",
   "mimetype": "text/x-python",
   "name": "python",
   "nbconvert_exporter": "python",
   "pygments_lexer": "ipython3",
   "version": "3.9.9"
  }
 },
 "nbformat": 4,
 "nbformat_minor": 5
}
